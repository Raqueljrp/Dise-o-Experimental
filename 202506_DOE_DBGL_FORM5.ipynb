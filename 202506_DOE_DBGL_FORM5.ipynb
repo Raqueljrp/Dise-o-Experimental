{
  "nbformat": 4,
  "nbformat_minor": 0,
  "metadata": {
    "colab": {
      "provenance": [],
      "authorship_tag": "ABX9TyPECofmOrXgL/JlKSzjvdsU",
      "include_colab_link": true
    },
    "kernelspec": {
      "name": "python3",
      "display_name": "Python 3"
    },
    "language_info": {
      "name": "python"
    }
  },
  "cells": [
    {
      "cell_type": "markdown",
      "metadata": {
        "id": "view-in-github",
        "colab_type": "text"
      },
      "source": [
        "<a href=\"https://colab.research.google.com/github/Raqueljrp/Dise-o-Experimental/blob/main/202506_DOE_DBGL_FORM5.ipynb\" target=\"_parent\"><img src=\"https://colab.research.google.com/assets/colab-badge.svg\" alt=\"Open In Colab\"/></a>"
      ]
    },
    {
      "cell_type": "markdown",
      "metadata": {
        "id": "OKPoQK5e2fS-"
      },
      "source": [
        "# **Diseño de Experimentos 2025**\n",
        "# **Formato para Trabajar en Colab 2025**\n",
        "# **Escribe el Nombre del Curso**: Diseno de Experimentos\n",
        "## **Escribe tu nombre completo**: Raquel Jimena Rey Prada\n",
        "> Email: rrey@utb.edu.co\n",
        "\n",
        "> Celular:3006613549\n",
        "\n",
        "> Código Estudiantil: T00057965\n",
        "## **TEMA: Diseño en Cuadrados Greco Latinos - DCGL**\n",
        "\n"
      ]
    },
    {
      "cell_type": "markdown",
      "source": [
        "<a name=\"inicio\"></a>\n",
        "\n",
        "## **1.** [Diseno en Cuadrado Greco Latino - DCGL](#T1)\n",
        "## **2.** [Datos del problema](#T2)\n",
        "## **3.** [Tabla Anova](#T3)\n",
        "## **4.** [Turkey Honestly Significant Difference (HSD)](#T4)\n",
        "## **5.** [Validacion en R](#T5)\n",
        "## **6.** [Prueba de Homocedasticidad (Levene's Test)](#T6)"
      ],
      "metadata": {
        "id": "ZD-SwfrMjD__"
      }
    },
    {
      "cell_type": "markdown",
      "source": [
        "[⬆️ Volver al inicio](#inicio)"
      ],
      "metadata": {
        "id": "W5ZWhx7h9Yfe"
      }
    },
    {
      "cell_type": "markdown",
      "source": [
        "<a name=\"T1\"></a>\n",
        "## **1. Diseno en cuadrado greco latino - DCGL**\n"
      ],
      "metadata": {
        "id": "UDX84-xGjS7Y"
      }
    },
    {
      "cell_type": "markdown",
      "metadata": {
        "id": "192b54d1"
      },
      "source": [
        "## Diseño de un Experimento con Cuadrado Grecolatino para la Rapidez de Combustión\n",
        "\n",
        "Un experimentador busca investigar el efecto de cinco formulaciones diferentes de carga propulsora (A, B, C, D, E) sobre la rapidez de combustión en sistemas de expulsión de tripulación de aviones.\n",
        "\n",
        "**Factores del Experimento:**\n",
        "\n",
        "*   **Factor Principal:** Formulaciones de carga propulsora (A, B, C, D, E).\n",
        "*   **Factores de Bloqueo:**\n",
        "    *   Lotes de materia prima (1, 2, 3, 4, 5). Cada lote solo permite probar cinco formulaciones.\n",
        "    *   Operadores (1, 2, 3, 4, 5). Se sospecha que existen diferencias significativas en las habilidades de los operadores.\n",
        "    *   Montajes de prueba (α, β, γ, δ, ε). Un factor adicional que podría ser importante.\n",
        "\n",
        "**Diseño Experimental:**\n",
        "\n",
        "Para controlar los efectos de los factores de bloqueo, se utiliza un diseño de Cuadrado Grecolatino. Este diseño permite probar cada formulación exactamente una vez con cada operador, cada lote de materia prima y cada montaje de prueba.\n",
        "\n",
        "La siguiente tabla muestra el diseño cuadrado grecolatino resultante, donde cada celda representa una combinación de Operador (fila) y Lote (columna), con la Formulacion (letra mayúscula) y el Montaje de prueba (letra griega) asignados, y el valor observado de la rapidez de combustión:\n",
        "\n",
        "**Tabla 6. Diseño en Cuadrado Grecolatino**\n",
        "\n",
        "| (Operador\\Lote) | 1     | 2     | 3     | 4     | 5     |\n",
        "| :-------------- | :---- | :---- | :---- | :---- | :---- |\n",
        "| 1               | Aα=24 | Bγ=20 | Cε=19 | Dβ=24 | Eδ=24 |\n",
        "| 2               | Bβ=17 | Cδ=24 | Dα=30 | Eγ=27 | Aε=36 |\n",
        "| 3               | Cγ=18 | Dε=38 | Eβ=26 | Aδ=27 | Bα=21 |\n",
        "| 4               | Dδ=26 | Eα=31 | Aγ=26 | Bε=23 | Cβ=22 |\n",
        "| 5               | Eε=22 | Aβ=30 | Bδ=20 | Cα=29 | Dγ=31 |"
      ]
    },
    {
      "cell_type": "markdown",
      "source": [
        "[⬆️ Volver al inicio](#inicio)"
      ],
      "metadata": {
        "id": "V6HHI9PXlTo4"
      }
    },
    {
      "cell_type": "markdown",
      "source": [
        "<a name=\"T2\"></a>\n",
        "## **2. Datos del Problema**\n"
      ],
      "metadata": {
        "id": "TlQWOJjalVPE"
      }
    },
    {
      "cell_type": "code",
      "source": [
        "import pandas as pd\n",
        "\n",
        "data = {\n",
        "    'Operador': [1, 1, 1, 1, 1, 2, 2, 2, 2, 2, 3, 3, 3, 3, 3, 4, 4, 4, 4, 4, 5, 5, 5, 5, 5],\n",
        "    'Lote': [1, 2, 3, 4, 5, 1, 2, 3, 4, 5, 1, 2, 3, 4, 5, 1, 2, 3, 4, 5, 1, 2, 3, 4, 5],\n",
        "    'Formulacion': ['A', 'B', 'C', 'D', 'E', 'B', 'C', 'D', 'E', 'A', 'C', 'D', 'E', 'A', 'B', 'D', 'E', 'A', 'B', 'C', 'E', 'A', 'B', 'C', 'D'],\n",
        "    'Montaje': ['α', 'γ', 'ε', 'β', 'δ', 'β', 'δ', 'α', 'γ', 'ε', 'γ', 'ε', 'β', 'δ', 'α', 'δ', 'α', 'γ', 'ε', 'β', 'ε', 'β', 'δ', 'α', 'γ'],\n",
        "    'Rapidez_Combustion': [24, 20, 19, 24, 24, 17, 24, 30, 27, 36, 18, 38, 26, 27, 21, 26, 31, 26, 23, 22, 22, 30, 20, 29, 31]\n",
        "}\n",
        "\n",
        "df = pd.DataFrame(data)\n",
        "\n",
        "# Convert categorical columns to 'category' dtype\n",
        "df['Operador'] = df['Operador'].astype('category')\n",
        "df['Lote'] = df['Lote'].astype('category')\n",
        "df['Formulacion'] = df['Formulacion'].astype('category')\n",
        "df['Montaje'] = df['Montaje'].astype('category')\n",
        "\n",
        "display(df)"
      ],
      "metadata": {
        "colab": {
          "base_uri": "https://localhost:8080/",
          "height": 833
        },
        "id": "UjhVcqbUiVHc",
        "outputId": "02c11896-545e-4996-f54c-09bc26e4201a"
      },
      "execution_count": null,
      "outputs": [
        {
          "output_type": "display_data",
          "data": {
            "text/plain": [
              "   Operador Lote Formulacion Montaje  Rapidez_Combustion\n",
              "0         1    1           A       α                  24\n",
              "1         1    2           B       γ                  20\n",
              "2         1    3           C       ε                  19\n",
              "3         1    4           D       β                  24\n",
              "4         1    5           E       δ                  24\n",
              "5         2    1           B       β                  17\n",
              "6         2    2           C       δ                  24\n",
              "7         2    3           D       α                  30\n",
              "8         2    4           E       γ                  27\n",
              "9         2    5           A       ε                  36\n",
              "10        3    1           C       γ                  18\n",
              "11        3    2           D       ε                  38\n",
              "12        3    3           E       β                  26\n",
              "13        3    4           A       δ                  27\n",
              "14        3    5           B       α                  21\n",
              "15        4    1           D       δ                  26\n",
              "16        4    2           E       α                  31\n",
              "17        4    3           A       γ                  26\n",
              "18        4    4           B       ε                  23\n",
              "19        4    5           C       β                  22\n",
              "20        5    1           E       ε                  22\n",
              "21        5    2           A       β                  30\n",
              "22        5    3           B       δ                  20\n",
              "23        5    4           C       α                  29\n",
              "24        5    5           D       γ                  31"
            ],
            "text/html": [
              "\n",
              "  <div id=\"df-509b7121-65ee-4662-a0f8-ba5760ed384a\" class=\"colab-df-container\">\n",
              "    <div>\n",
              "<style scoped>\n",
              "    .dataframe tbody tr th:only-of-type {\n",
              "        vertical-align: middle;\n",
              "    }\n",
              "\n",
              "    .dataframe tbody tr th {\n",
              "        vertical-align: top;\n",
              "    }\n",
              "\n",
              "    .dataframe thead th {\n",
              "        text-align: right;\n",
              "    }\n",
              "</style>\n",
              "<table border=\"1\" class=\"dataframe\">\n",
              "  <thead>\n",
              "    <tr style=\"text-align: right;\">\n",
              "      <th></th>\n",
              "      <th>Operador</th>\n",
              "      <th>Lote</th>\n",
              "      <th>Formulacion</th>\n",
              "      <th>Montaje</th>\n",
              "      <th>Rapidez_Combustion</th>\n",
              "    </tr>\n",
              "  </thead>\n",
              "  <tbody>\n",
              "    <tr>\n",
              "      <th>0</th>\n",
              "      <td>1</td>\n",
              "      <td>1</td>\n",
              "      <td>A</td>\n",
              "      <td>α</td>\n",
              "      <td>24</td>\n",
              "    </tr>\n",
              "    <tr>\n",
              "      <th>1</th>\n",
              "      <td>1</td>\n",
              "      <td>2</td>\n",
              "      <td>B</td>\n",
              "      <td>γ</td>\n",
              "      <td>20</td>\n",
              "    </tr>\n",
              "    <tr>\n",
              "      <th>2</th>\n",
              "      <td>1</td>\n",
              "      <td>3</td>\n",
              "      <td>C</td>\n",
              "      <td>ε</td>\n",
              "      <td>19</td>\n",
              "    </tr>\n",
              "    <tr>\n",
              "      <th>3</th>\n",
              "      <td>1</td>\n",
              "      <td>4</td>\n",
              "      <td>D</td>\n",
              "      <td>β</td>\n",
              "      <td>24</td>\n",
              "    </tr>\n",
              "    <tr>\n",
              "      <th>4</th>\n",
              "      <td>1</td>\n",
              "      <td>5</td>\n",
              "      <td>E</td>\n",
              "      <td>δ</td>\n",
              "      <td>24</td>\n",
              "    </tr>\n",
              "    <tr>\n",
              "      <th>5</th>\n",
              "      <td>2</td>\n",
              "      <td>1</td>\n",
              "      <td>B</td>\n",
              "      <td>β</td>\n",
              "      <td>17</td>\n",
              "    </tr>\n",
              "    <tr>\n",
              "      <th>6</th>\n",
              "      <td>2</td>\n",
              "      <td>2</td>\n",
              "      <td>C</td>\n",
              "      <td>δ</td>\n",
              "      <td>24</td>\n",
              "    </tr>\n",
              "    <tr>\n",
              "      <th>7</th>\n",
              "      <td>2</td>\n",
              "      <td>3</td>\n",
              "      <td>D</td>\n",
              "      <td>α</td>\n",
              "      <td>30</td>\n",
              "    </tr>\n",
              "    <tr>\n",
              "      <th>8</th>\n",
              "      <td>2</td>\n",
              "      <td>4</td>\n",
              "      <td>E</td>\n",
              "      <td>γ</td>\n",
              "      <td>27</td>\n",
              "    </tr>\n",
              "    <tr>\n",
              "      <th>9</th>\n",
              "      <td>2</td>\n",
              "      <td>5</td>\n",
              "      <td>A</td>\n",
              "      <td>ε</td>\n",
              "      <td>36</td>\n",
              "    </tr>\n",
              "    <tr>\n",
              "      <th>10</th>\n",
              "      <td>3</td>\n",
              "      <td>1</td>\n",
              "      <td>C</td>\n",
              "      <td>γ</td>\n",
              "      <td>18</td>\n",
              "    </tr>\n",
              "    <tr>\n",
              "      <th>11</th>\n",
              "      <td>3</td>\n",
              "      <td>2</td>\n",
              "      <td>D</td>\n",
              "      <td>ε</td>\n",
              "      <td>38</td>\n",
              "    </tr>\n",
              "    <tr>\n",
              "      <th>12</th>\n",
              "      <td>3</td>\n",
              "      <td>3</td>\n",
              "      <td>E</td>\n",
              "      <td>β</td>\n",
              "      <td>26</td>\n",
              "    </tr>\n",
              "    <tr>\n",
              "      <th>13</th>\n",
              "      <td>3</td>\n",
              "      <td>4</td>\n",
              "      <td>A</td>\n",
              "      <td>δ</td>\n",
              "      <td>27</td>\n",
              "    </tr>\n",
              "    <tr>\n",
              "      <th>14</th>\n",
              "      <td>3</td>\n",
              "      <td>5</td>\n",
              "      <td>B</td>\n",
              "      <td>α</td>\n",
              "      <td>21</td>\n",
              "    </tr>\n",
              "    <tr>\n",
              "      <th>15</th>\n",
              "      <td>4</td>\n",
              "      <td>1</td>\n",
              "      <td>D</td>\n",
              "      <td>δ</td>\n",
              "      <td>26</td>\n",
              "    </tr>\n",
              "    <tr>\n",
              "      <th>16</th>\n",
              "      <td>4</td>\n",
              "      <td>2</td>\n",
              "      <td>E</td>\n",
              "      <td>α</td>\n",
              "      <td>31</td>\n",
              "    </tr>\n",
              "    <tr>\n",
              "      <th>17</th>\n",
              "      <td>4</td>\n",
              "      <td>3</td>\n",
              "      <td>A</td>\n",
              "      <td>γ</td>\n",
              "      <td>26</td>\n",
              "    </tr>\n",
              "    <tr>\n",
              "      <th>18</th>\n",
              "      <td>4</td>\n",
              "      <td>4</td>\n",
              "      <td>B</td>\n",
              "      <td>ε</td>\n",
              "      <td>23</td>\n",
              "    </tr>\n",
              "    <tr>\n",
              "      <th>19</th>\n",
              "      <td>4</td>\n",
              "      <td>5</td>\n",
              "      <td>C</td>\n",
              "      <td>β</td>\n",
              "      <td>22</td>\n",
              "    </tr>\n",
              "    <tr>\n",
              "      <th>20</th>\n",
              "      <td>5</td>\n",
              "      <td>1</td>\n",
              "      <td>E</td>\n",
              "      <td>ε</td>\n",
              "      <td>22</td>\n",
              "    </tr>\n",
              "    <tr>\n",
              "      <th>21</th>\n",
              "      <td>5</td>\n",
              "      <td>2</td>\n",
              "      <td>A</td>\n",
              "      <td>β</td>\n",
              "      <td>30</td>\n",
              "    </tr>\n",
              "    <tr>\n",
              "      <th>22</th>\n",
              "      <td>5</td>\n",
              "      <td>3</td>\n",
              "      <td>B</td>\n",
              "      <td>δ</td>\n",
              "      <td>20</td>\n",
              "    </tr>\n",
              "    <tr>\n",
              "      <th>23</th>\n",
              "      <td>5</td>\n",
              "      <td>4</td>\n",
              "      <td>C</td>\n",
              "      <td>α</td>\n",
              "      <td>29</td>\n",
              "    </tr>\n",
              "    <tr>\n",
              "      <th>24</th>\n",
              "      <td>5</td>\n",
              "      <td>5</td>\n",
              "      <td>D</td>\n",
              "      <td>γ</td>\n",
              "      <td>31</td>\n",
              "    </tr>\n",
              "  </tbody>\n",
              "</table>\n",
              "</div>\n",
              "    <div class=\"colab-df-buttons\">\n",
              "\n",
              "  <div class=\"colab-df-container\">\n",
              "    <button class=\"colab-df-convert\" onclick=\"convertToInteractive('df-509b7121-65ee-4662-a0f8-ba5760ed384a')\"\n",
              "            title=\"Convert this dataframe to an interactive table.\"\n",
              "            style=\"display:none;\">\n",
              "\n",
              "  <svg xmlns=\"http://www.w3.org/2000/svg\" height=\"24px\" viewBox=\"0 -960 960 960\">\n",
              "    <path d=\"M120-120v-720h720v720H120Zm60-500h600v-160H180v160Zm220 220h160v-160H400v160Zm0 220h160v-160H400v160ZM180-400h160v-160H180v160Zm440 0h160v-160H620v160ZM180-180h160v-160H180v160Zm440 0h160v-160H620v160Z\"/>\n",
              "  </svg>\n",
              "    </button>\n",
              "\n",
              "  <style>\n",
              "    .colab-df-container {\n",
              "      display:flex;\n",
              "      gap: 12px;\n",
              "    }\n",
              "\n",
              "    .colab-df-convert {\n",
              "      background-color: #E8F0FE;\n",
              "      border: none;\n",
              "      border-radius: 50%;\n",
              "      cursor: pointer;\n",
              "      display: none;\n",
              "      fill: #1967D2;\n",
              "      height: 32px;\n",
              "      padding: 0 0 0 0;\n",
              "      width: 32px;\n",
              "    }\n",
              "\n",
              "    .colab-df-convert:hover {\n",
              "      background-color: #E2EBFA;\n",
              "      box-shadow: 0px 1px 2px rgba(60, 64, 67, 0.3), 0px 1px 3px 1px rgba(60, 64, 67, 0.15);\n",
              "      fill: #174EA6;\n",
              "    }\n",
              "\n",
              "    .colab-df-buttons div {\n",
              "      margin-bottom: 4px;\n",
              "    }\n",
              "\n",
              "    [theme=dark] .colab-df-convert {\n",
              "      background-color: #3B4455;\n",
              "      fill: #D2E3FC;\n",
              "    }\n",
              "\n",
              "    [theme=dark] .colab-df-convert:hover {\n",
              "      background-color: #434B5C;\n",
              "      box-shadow: 0px 1px 3px 1px rgba(0, 0, 0, 0.15);\n",
              "      filter: drop-shadow(0px 1px 2px rgba(0, 0, 0, 0.3));\n",
              "      fill: #FFFFFF;\n",
              "    }\n",
              "  </style>\n",
              "\n",
              "    <script>\n",
              "      const buttonEl =\n",
              "        document.querySelector('#df-509b7121-65ee-4662-a0f8-ba5760ed384a button.colab-df-convert');\n",
              "      buttonEl.style.display =\n",
              "        google.colab.kernel.accessAllowed ? 'block' : 'none';\n",
              "\n",
              "      async function convertToInteractive(key) {\n",
              "        const element = document.querySelector('#df-509b7121-65ee-4662-a0f8-ba5760ed384a');\n",
              "        const dataTable =\n",
              "          await google.colab.kernel.invokeFunction('convertToInteractive',\n",
              "                                                    [key], {});\n",
              "        if (!dataTable) return;\n",
              "\n",
              "        const docLinkHtml = 'Like what you see? Visit the ' +\n",
              "          '<a target=\"_blank\" href=https://colab.research.google.com/notebooks/data_table.ipynb>data table notebook</a>'\n",
              "          + ' to learn more about interactive tables.';\n",
              "        element.innerHTML = '';\n",
              "        dataTable['output_type'] = 'display_data';\n",
              "        await google.colab.output.renderOutput(dataTable, element);\n",
              "        const docLink = document.createElement('div');\n",
              "        docLink.innerHTML = docLinkHtml;\n",
              "        element.appendChild(docLink);\n",
              "      }\n",
              "    </script>\n",
              "  </div>\n",
              "\n",
              "\n",
              "    <div id=\"df-4d7bce16-03f5-4372-ac9f-02d8f1b9eb11\">\n",
              "      <button class=\"colab-df-quickchart\" onclick=\"quickchart('df-4d7bce16-03f5-4372-ac9f-02d8f1b9eb11')\"\n",
              "                title=\"Suggest charts\"\n",
              "                style=\"display:none;\">\n",
              "\n",
              "<svg xmlns=\"http://www.w3.org/2000/svg\" height=\"24px\"viewBox=\"0 0 24 24\"\n",
              "     width=\"24px\">\n",
              "    <g>\n",
              "        <path d=\"M19 3H5c-1.1 0-2 .9-2 2v14c0 1.1.9 2 2 2h14c1.1 0 2-.9 2-2V5c0-1.1-.9-2-2-2zM9 17H7v-7h2v7zm4 0h-2V7h2v10zm4 0h-2v-4h2v4z\"/>\n",
              "    </g>\n",
              "</svg>\n",
              "      </button>\n",
              "\n",
              "<style>\n",
              "  .colab-df-quickchart {\n",
              "      --bg-color: #E8F0FE;\n",
              "      --fill-color: #1967D2;\n",
              "      --hover-bg-color: #E2EBFA;\n",
              "      --hover-fill-color: #174EA6;\n",
              "      --disabled-fill-color: #AAA;\n",
              "      --disabled-bg-color: #DDD;\n",
              "  }\n",
              "\n",
              "  [theme=dark] .colab-df-quickchart {\n",
              "      --bg-color: #3B4455;\n",
              "      --fill-color: #D2E3FC;\n",
              "      --hover-bg-color: #434B5C;\n",
              "      --hover-fill-color: #FFFFFF;\n",
              "      --disabled-bg-color: #3B4455;\n",
              "      --disabled-fill-color: #666;\n",
              "  }\n",
              "\n",
              "  .colab-df-quickchart {\n",
              "    background-color: var(--bg-color);\n",
              "    border: none;\n",
              "    border-radius: 50%;\n",
              "    cursor: pointer;\n",
              "    display: none;\n",
              "    fill: var(--fill-color);\n",
              "    height: 32px;\n",
              "    padding: 0;\n",
              "    width: 32px;\n",
              "  }\n",
              "\n",
              "  .colab-df-quickchart:hover {\n",
              "    background-color: var(--hover-bg-color);\n",
              "    box-shadow: 0 1px 2px rgba(60, 64, 67, 0.3), 0 1px 3px 1px rgba(60, 64, 67, 0.15);\n",
              "    fill: var(--button-hover-fill-color);\n",
              "  }\n",
              "\n",
              "  .colab-df-quickchart-complete:disabled,\n",
              "  .colab-df-quickchart-complete:disabled:hover {\n",
              "    background-color: var(--disabled-bg-color);\n",
              "    fill: var(--disabled-fill-color);\n",
              "    box-shadow: none;\n",
              "  }\n",
              "\n",
              "  .colab-df-spinner {\n",
              "    border: 2px solid var(--fill-color);\n",
              "    border-color: transparent;\n",
              "    border-bottom-color: var(--fill-color);\n",
              "    animation:\n",
              "      spin 1s steps(1) infinite;\n",
              "  }\n",
              "\n",
              "  @keyframes spin {\n",
              "    0% {\n",
              "      border-color: transparent;\n",
              "      border-bottom-color: var(--fill-color);\n",
              "      border-left-color: var(--fill-color);\n",
              "    }\n",
              "    20% {\n",
              "      border-color: transparent;\n",
              "      border-left-color: var(--fill-color);\n",
              "      border-top-color: var(--fill-color);\n",
              "    }\n",
              "    30% {\n",
              "      border-color: transparent;\n",
              "      border-left-color: var(--fill-color);\n",
              "      border-top-color: var(--fill-color);\n",
              "      border-right-color: var(--fill-color);\n",
              "    }\n",
              "    40% {\n",
              "      border-color: transparent;\n",
              "      border-right-color: var(--fill-color);\n",
              "      border-top-color: var(--fill-color);\n",
              "    }\n",
              "    60% {\n",
              "      border-color: transparent;\n",
              "      border-right-color: var(--fill-color);\n",
              "    }\n",
              "    80% {\n",
              "      border-color: transparent;\n",
              "      border-right-color: var(--fill-color);\n",
              "      border-bottom-color: var(--fill-color);\n",
              "    }\n",
              "    90% {\n",
              "      border-color: transparent;\n",
              "      border-bottom-color: var(--fill-color);\n",
              "    }\n",
              "  }\n",
              "</style>\n",
              "\n",
              "      <script>\n",
              "        async function quickchart(key) {\n",
              "          const quickchartButtonEl =\n",
              "            document.querySelector('#' + key + ' button');\n",
              "          quickchartButtonEl.disabled = true;  // To prevent multiple clicks.\n",
              "          quickchartButtonEl.classList.add('colab-df-spinner');\n",
              "          try {\n",
              "            const charts = await google.colab.kernel.invokeFunction(\n",
              "                'suggestCharts', [key], {});\n",
              "          } catch (error) {\n",
              "            console.error('Error during call to suggestCharts:', error);\n",
              "          }\n",
              "          quickchartButtonEl.classList.remove('colab-df-spinner');\n",
              "          quickchartButtonEl.classList.add('colab-df-quickchart-complete');\n",
              "        }\n",
              "        (() => {\n",
              "          let quickchartButtonEl =\n",
              "            document.querySelector('#df-4d7bce16-03f5-4372-ac9f-02d8f1b9eb11 button');\n",
              "          quickchartButtonEl.style.display =\n",
              "            google.colab.kernel.accessAllowed ? 'block' : 'none';\n",
              "        })();\n",
              "      </script>\n",
              "    </div>\n",
              "\n",
              "  <div id=\"id_8fcc2c99-5ae5-4ef1-9153-4f5abc932894\">\n",
              "    <style>\n",
              "      .colab-df-generate {\n",
              "        background-color: #E8F0FE;\n",
              "        border: none;\n",
              "        border-radius: 50%;\n",
              "        cursor: pointer;\n",
              "        display: none;\n",
              "        fill: #1967D2;\n",
              "        height: 32px;\n",
              "        padding: 0 0 0 0;\n",
              "        width: 32px;\n",
              "      }\n",
              "\n",
              "      .colab-df-generate:hover {\n",
              "        background-color: #E2EBFA;\n",
              "        box-shadow: 0px 1px 2px rgba(60, 64, 67, 0.3), 0px 1px 3px 1px rgba(60, 64, 67, 0.15);\n",
              "        fill: #174EA6;\n",
              "      }\n",
              "\n",
              "      [theme=dark] .colab-df-generate {\n",
              "        background-color: #3B4455;\n",
              "        fill: #D2E3FC;\n",
              "      }\n",
              "\n",
              "      [theme=dark] .colab-df-generate:hover {\n",
              "        background-color: #434B5C;\n",
              "        box-shadow: 0px 1px 3px 1px rgba(0, 0, 0, 0.15);\n",
              "        filter: drop-shadow(0px 1px 2px rgba(0, 0, 0, 0.3));\n",
              "        fill: #FFFFFF;\n",
              "      }\n",
              "    </style>\n",
              "    <button class=\"colab-df-generate\" onclick=\"generateWithVariable('df')\"\n",
              "            title=\"Generate code using this dataframe.\"\n",
              "            style=\"display:none;\">\n",
              "\n",
              "  <svg xmlns=\"http://www.w3.org/2000/svg\" height=\"24px\"viewBox=\"0 0 24 24\"\n",
              "       width=\"24px\">\n",
              "    <path d=\"M7,19H8.4L18.45,9,17,7.55,7,17.6ZM5,21V16.75L18.45,3.32a2,2,0,0,1,2.83,0l1.4,1.43a1.91,1.91,0,0,1,.58,1.4,1.91,1.91,0,0,1-.58,1.4L9.25,21ZM18.45,9,17,7.55Zm-12,3A5.31,5.31,0,0,0,4.9,8.1,5.31,5.31,0,0,0,1,6.5,5.31,5.31,0,0,0,4.9,4.9,5.31,5.31,0,0,0,6.5,1,5.31,5.31,0,0,0,8.1,4.9,5.31,5.31,0,0,0,12,6.5,5.46,5.46,0,0,0,6.5,12Z\"/>\n",
              "  </svg>\n",
              "    </button>\n",
              "    <script>\n",
              "      (() => {\n",
              "      const buttonEl =\n",
              "        document.querySelector('#id_8fcc2c99-5ae5-4ef1-9153-4f5abc932894 button.colab-df-generate');\n",
              "      buttonEl.style.display =\n",
              "        google.colab.kernel.accessAllowed ? 'block' : 'none';\n",
              "\n",
              "      buttonEl.onclick = () => {\n",
              "        google.colab.notebook.generateWithVariable('df');\n",
              "      }\n",
              "      })();\n",
              "    </script>\n",
              "  </div>\n",
              "\n",
              "    </div>\n",
              "  </div>\n"
            ],
            "application/vnd.google.colaboratory.intrinsic+json": {
              "type": "dataframe",
              "variable_name": "df",
              "summary": "{\n  \"name\": \"df\",\n  \"rows\": 25,\n  \"fields\": [\n    {\n      \"column\": \"Operador\",\n      \"properties\": {\n        \"dtype\": \"category\",\n        \"num_unique_values\": 5,\n        \"samples\": [\n          2,\n          5,\n          3\n        ],\n        \"semantic_type\": \"\",\n        \"description\": \"\"\n      }\n    },\n    {\n      \"column\": \"Lote\",\n      \"properties\": {\n        \"dtype\": \"category\",\n        \"num_unique_values\": 5,\n        \"samples\": [\n          2,\n          5,\n          3\n        ],\n        \"semantic_type\": \"\",\n        \"description\": \"\"\n      }\n    },\n    {\n      \"column\": \"Formulacion\",\n      \"properties\": {\n        \"dtype\": \"category\",\n        \"num_unique_values\": 5,\n        \"samples\": [\n          \"B\",\n          \"E\",\n          \"C\"\n        ],\n        \"semantic_type\": \"\",\n        \"description\": \"\"\n      }\n    },\n    {\n      \"column\": \"Montaje\",\n      \"properties\": {\n        \"dtype\": \"category\",\n        \"num_unique_values\": 5,\n        \"samples\": [\n          \"\\u03b3\",\n          \"\\u03b4\",\n          \"\\u03b5\"\n        ],\n        \"semantic_type\": \"\",\n        \"description\": \"\"\n      }\n    },\n    {\n      \"column\": \"Rapidez_Combustion\",\n      \"properties\": {\n        \"dtype\": \"number\",\n        \"std\": 5,\n        \"min\": 17,\n        \"max\": 38,\n        \"num_unique_values\": 15,\n        \"samples\": [\n          26,\n          31,\n          24\n        ],\n        \"semantic_type\": \"\",\n        \"description\": \"\"\n      }\n    }\n  ]\n}"
            }
          },
          "metadata": {}
        }
      ]
    },
    {
      "cell_type": "markdown",
      "source": [
        "[⬆️ Volver al inicio](#inicio)\n"
      ],
      "metadata": {
        "id": "AHQ7llFelosX"
      }
    },
    {
      "cell_type": "markdown",
      "source": [
        "<a name=\"T3\"></a>\n",
        "## **3. Tabla Anova**"
      ],
      "metadata": {
        "id": "_5a4P6tVmiYd"
      }
    },
    {
      "cell_type": "code",
      "metadata": {
        "colab": {
          "base_uri": "https://localhost:8080/"
        },
        "id": "db597e4e",
        "outputId": "2e3452e1-d1bc-406a-c341-f087a55d523a"
      },
      "source": [
        "%pip install statsmodels"
      ],
      "execution_count": null,
      "outputs": [
        {
          "output_type": "stream",
          "name": "stdout",
          "text": [
            "Requirement already satisfied: statsmodels in /usr/local/lib/python3.12/dist-packages (0.14.5)\n",
            "Requirement already satisfied: numpy<3,>=1.22.3 in /usr/local/lib/python3.12/dist-packages (from statsmodels) (2.0.2)\n",
            "Requirement already satisfied: scipy!=1.9.2,>=1.8 in /usr/local/lib/python3.12/dist-packages (from statsmodels) (1.16.1)\n",
            "Requirement already satisfied: pandas!=2.1.0,>=1.4 in /usr/local/lib/python3.12/dist-packages (from statsmodels) (2.2.2)\n",
            "Requirement already satisfied: patsy>=0.5.6 in /usr/local/lib/python3.12/dist-packages (from statsmodels) (1.0.1)\n",
            "Requirement already satisfied: packaging>=21.3 in /usr/local/lib/python3.12/dist-packages (from statsmodels) (25.0)\n",
            "Requirement already satisfied: python-dateutil>=2.8.2 in /usr/local/lib/python3.12/dist-packages (from pandas!=2.1.0,>=1.4->statsmodels) (2.9.0.post0)\n",
            "Requirement already satisfied: pytz>=2020.1 in /usr/local/lib/python3.12/dist-packages (from pandas!=2.1.0,>=1.4->statsmodels) (2025.2)\n",
            "Requirement already satisfied: tzdata>=2022.7 in /usr/local/lib/python3.12/dist-packages (from pandas!=2.1.0,>=1.4->statsmodels) (2025.2)\n",
            "Requirement already satisfied: six>=1.5 in /usr/local/lib/python3.12/dist-packages (from python-dateutil>=2.8.2->pandas!=2.1.0,>=1.4->statsmodels) (1.17.0)\n"
          ]
        }
      ]
    },
    {
      "cell_type": "code",
      "metadata": {
        "colab": {
          "base_uri": "https://localhost:8080/",
          "height": 206
        },
        "id": "8fd1764b",
        "outputId": "4de0b1e8-d6e6-4902-c931-1609b95b91de"
      },
      "source": [
        "import statsmodels.api as sm\n",
        "from statsmodels.formula.api import ols\n",
        "\n",
        "# Perform the ANOVA\n",
        "model = ols('Rapidez_Combustion ~ C(Operador) + C(Lote) + C(Formulacion) + C(Montaje)', data=df).fit()\n",
        "anova_table = sm.stats.anova_lm(model, typ=1)\n",
        "\n",
        "display(anova_table)"
      ],
      "execution_count": null,
      "outputs": [
        {
          "output_type": "display_data",
          "data": {
            "text/plain": [
              "                 df  sum_sq  mean_sq          F    PR(>F)\n",
              "C(Operador)     4.0    68.0    17.00   2.060606  0.178311\n",
              "C(Lote)         4.0   150.0    37.50   4.545455  0.032930\n",
              "C(Formulacion)  4.0   330.0    82.50  10.000000  0.003344\n",
              "C(Montaje)      4.0    62.0    15.50   1.878788  0.207641\n",
              "Residual        8.0    66.0     8.25        NaN       NaN"
            ],
            "text/html": [
              "\n",
              "  <div id=\"df-1c4f5518-b62f-4664-8831-59ea0d0e3859\" class=\"colab-df-container\">\n",
              "    <div>\n",
              "<style scoped>\n",
              "    .dataframe tbody tr th:only-of-type {\n",
              "        vertical-align: middle;\n",
              "    }\n",
              "\n",
              "    .dataframe tbody tr th {\n",
              "        vertical-align: top;\n",
              "    }\n",
              "\n",
              "    .dataframe thead th {\n",
              "        text-align: right;\n",
              "    }\n",
              "</style>\n",
              "<table border=\"1\" class=\"dataframe\">\n",
              "  <thead>\n",
              "    <tr style=\"text-align: right;\">\n",
              "      <th></th>\n",
              "      <th>df</th>\n",
              "      <th>sum_sq</th>\n",
              "      <th>mean_sq</th>\n",
              "      <th>F</th>\n",
              "      <th>PR(&gt;F)</th>\n",
              "    </tr>\n",
              "  </thead>\n",
              "  <tbody>\n",
              "    <tr>\n",
              "      <th>C(Operador)</th>\n",
              "      <td>4.0</td>\n",
              "      <td>68.0</td>\n",
              "      <td>17.00</td>\n",
              "      <td>2.060606</td>\n",
              "      <td>0.178311</td>\n",
              "    </tr>\n",
              "    <tr>\n",
              "      <th>C(Lote)</th>\n",
              "      <td>4.0</td>\n",
              "      <td>150.0</td>\n",
              "      <td>37.50</td>\n",
              "      <td>4.545455</td>\n",
              "      <td>0.032930</td>\n",
              "    </tr>\n",
              "    <tr>\n",
              "      <th>C(Formulacion)</th>\n",
              "      <td>4.0</td>\n",
              "      <td>330.0</td>\n",
              "      <td>82.50</td>\n",
              "      <td>10.000000</td>\n",
              "      <td>0.003344</td>\n",
              "    </tr>\n",
              "    <tr>\n",
              "      <th>C(Montaje)</th>\n",
              "      <td>4.0</td>\n",
              "      <td>62.0</td>\n",
              "      <td>15.50</td>\n",
              "      <td>1.878788</td>\n",
              "      <td>0.207641</td>\n",
              "    </tr>\n",
              "    <tr>\n",
              "      <th>Residual</th>\n",
              "      <td>8.0</td>\n",
              "      <td>66.0</td>\n",
              "      <td>8.25</td>\n",
              "      <td>NaN</td>\n",
              "      <td>NaN</td>\n",
              "    </tr>\n",
              "  </tbody>\n",
              "</table>\n",
              "</div>\n",
              "    <div class=\"colab-df-buttons\">\n",
              "\n",
              "  <div class=\"colab-df-container\">\n",
              "    <button class=\"colab-df-convert\" onclick=\"convertToInteractive('df-1c4f5518-b62f-4664-8831-59ea0d0e3859')\"\n",
              "            title=\"Convert this dataframe to an interactive table.\"\n",
              "            style=\"display:none;\">\n",
              "\n",
              "  <svg xmlns=\"http://www.w3.org/2000/svg\" height=\"24px\" viewBox=\"0 -960 960 960\">\n",
              "    <path d=\"M120-120v-720h720v720H120Zm60-500h600v-160H180v160Zm220 220h160v-160H400v160Zm0 220h160v-160H400v160ZM180-400h160v-160H180v160Zm440 0h160v-160H620v160ZM180-180h160v-160H180v160Zm440 0h160v-160H620v160Z\"/>\n",
              "  </svg>\n",
              "    </button>\n",
              "\n",
              "  <style>\n",
              "    .colab-df-container {\n",
              "      display:flex;\n",
              "      gap: 12px;\n",
              "    }\n",
              "\n",
              "    .colab-df-convert {\n",
              "      background-color: #E8F0FE;\n",
              "      border: none;\n",
              "      border-radius: 50%;\n",
              "      cursor: pointer;\n",
              "      display: none;\n",
              "      fill: #1967D2;\n",
              "      height: 32px;\n",
              "      padding: 0 0 0 0;\n",
              "      width: 32px;\n",
              "    }\n",
              "\n",
              "    .colab-df-convert:hover {\n",
              "      background-color: #E2EBFA;\n",
              "      box-shadow: 0px 1px 2px rgba(60, 64, 67, 0.3), 0px 1px 3px 1px rgba(60, 64, 67, 0.15);\n",
              "      fill: #174EA6;\n",
              "    }\n",
              "\n",
              "    .colab-df-buttons div {\n",
              "      margin-bottom: 4px;\n",
              "    }\n",
              "\n",
              "    [theme=dark] .colab-df-convert {\n",
              "      background-color: #3B4455;\n",
              "      fill: #D2E3FC;\n",
              "    }\n",
              "\n",
              "    [theme=dark] .colab-df-convert:hover {\n",
              "      background-color: #434B5C;\n",
              "      box-shadow: 0px 1px 3px 1px rgba(0, 0, 0, 0.15);\n",
              "      filter: drop-shadow(0px 1px 2px rgba(0, 0, 0, 0.3));\n",
              "      fill: #FFFFFF;\n",
              "    }\n",
              "  </style>\n",
              "\n",
              "    <script>\n",
              "      const buttonEl =\n",
              "        document.querySelector('#df-1c4f5518-b62f-4664-8831-59ea0d0e3859 button.colab-df-convert');\n",
              "      buttonEl.style.display =\n",
              "        google.colab.kernel.accessAllowed ? 'block' : 'none';\n",
              "\n",
              "      async function convertToInteractive(key) {\n",
              "        const element = document.querySelector('#df-1c4f5518-b62f-4664-8831-59ea0d0e3859');\n",
              "        const dataTable =\n",
              "          await google.colab.kernel.invokeFunction('convertToInteractive',\n",
              "                                                    [key], {});\n",
              "        if (!dataTable) return;\n",
              "\n",
              "        const docLinkHtml = 'Like what you see? Visit the ' +\n",
              "          '<a target=\"_blank\" href=https://colab.research.google.com/notebooks/data_table.ipynb>data table notebook</a>'\n",
              "          + ' to learn more about interactive tables.';\n",
              "        element.innerHTML = '';\n",
              "        dataTable['output_type'] = 'display_data';\n",
              "        await google.colab.output.renderOutput(dataTable, element);\n",
              "        const docLink = document.createElement('div');\n",
              "        docLink.innerHTML = docLinkHtml;\n",
              "        element.appendChild(docLink);\n",
              "      }\n",
              "    </script>\n",
              "  </div>\n",
              "\n",
              "\n",
              "    <div id=\"df-ee4f23c2-d936-4eed-adb1-32cf242f7e12\">\n",
              "      <button class=\"colab-df-quickchart\" onclick=\"quickchart('df-ee4f23c2-d936-4eed-adb1-32cf242f7e12')\"\n",
              "                title=\"Suggest charts\"\n",
              "                style=\"display:none;\">\n",
              "\n",
              "<svg xmlns=\"http://www.w3.org/2000/svg\" height=\"24px\"viewBox=\"0 0 24 24\"\n",
              "     width=\"24px\">\n",
              "    <g>\n",
              "        <path d=\"M19 3H5c-1.1 0-2 .9-2 2v14c0 1.1.9 2 2 2h14c1.1 0 2-.9 2-2V5c0-1.1-.9-2-2-2zM9 17H7v-7h2v7zm4 0h-2V7h2v10zm4 0h-2v-4h2v4z\"/>\n",
              "    </g>\n",
              "</svg>\n",
              "      </button>\n",
              "\n",
              "<style>\n",
              "  .colab-df-quickchart {\n",
              "      --bg-color: #E8F0FE;\n",
              "      --fill-color: #1967D2;\n",
              "      --hover-bg-color: #E2EBFA;\n",
              "      --hover-fill-color: #174EA6;\n",
              "      --disabled-fill-color: #AAA;\n",
              "      --disabled-bg-color: #DDD;\n",
              "  }\n",
              "\n",
              "  [theme=dark] .colab-df-quickchart {\n",
              "      --bg-color: #3B4455;\n",
              "      --fill-color: #D2E3FC;\n",
              "      --hover-bg-color: #434B5C;\n",
              "      --hover-fill-color: #FFFFFF;\n",
              "      --disabled-bg-color: #3B4455;\n",
              "      --disabled-fill-color: #666;\n",
              "  }\n",
              "\n",
              "  .colab-df-quickchart {\n",
              "    background-color: var(--bg-color);\n",
              "    border: none;\n",
              "    border-radius: 50%;\n",
              "    cursor: pointer;\n",
              "    display: none;\n",
              "    fill: var(--fill-color);\n",
              "    height: 32px;\n",
              "    padding: 0;\n",
              "    width: 32px;\n",
              "  }\n",
              "\n",
              "  .colab-df-quickchart:hover {\n",
              "    background-color: var(--hover-bg-color);\n",
              "    box-shadow: 0 1px 2px rgba(60, 64, 67, 0.3), 0 1px 3px 1px rgba(60, 64, 67, 0.15);\n",
              "    fill: var(--button-hover-fill-color);\n",
              "  }\n",
              "\n",
              "  .colab-df-quickchart-complete:disabled,\n",
              "  .colab-df-quickchart-complete:disabled:hover {\n",
              "    background-color: var(--disabled-bg-color);\n",
              "    fill: var(--disabled-fill-color);\n",
              "    box-shadow: none;\n",
              "  }\n",
              "\n",
              "  .colab-df-spinner {\n",
              "    border: 2px solid var(--fill-color);\n",
              "    border-color: transparent;\n",
              "    border-bottom-color: var(--fill-color);\n",
              "    animation:\n",
              "      spin 1s steps(1) infinite;\n",
              "  }\n",
              "\n",
              "  @keyframes spin {\n",
              "    0% {\n",
              "      border-color: transparent;\n",
              "      border-bottom-color: var(--fill-color);\n",
              "      border-left-color: var(--fill-color);\n",
              "    }\n",
              "    20% {\n",
              "      border-color: transparent;\n",
              "      border-left-color: var(--fill-color);\n",
              "      border-top-color: var(--fill-color);\n",
              "    }\n",
              "    30% {\n",
              "      border-color: transparent;\n",
              "      border-left-color: var(--fill-color);\n",
              "      border-top-color: var(--fill-color);\n",
              "      border-right-color: var(--fill-color);\n",
              "    }\n",
              "    40% {\n",
              "      border-color: transparent;\n",
              "      border-right-color: var(--fill-color);\n",
              "      border-top-color: var(--fill-color);\n",
              "    }\n",
              "    60% {\n",
              "      border-color: transparent;\n",
              "      border-right-color: var(--fill-color);\n",
              "    }\n",
              "    80% {\n",
              "      border-color: transparent;\n",
              "      border-right-color: var(--fill-color);\n",
              "      border-bottom-color: var(--fill-color);\n",
              "    }\n",
              "    90% {\n",
              "      border-color: transparent;\n",
              "      border-bottom-color: var(--fill-color);\n",
              "    }\n",
              "  }\n",
              "</style>\n",
              "\n",
              "      <script>\n",
              "        async function quickchart(key) {\n",
              "          const quickchartButtonEl =\n",
              "            document.querySelector('#' + key + ' button');\n",
              "          quickchartButtonEl.disabled = true;  // To prevent multiple clicks.\n",
              "          quickchartButtonEl.classList.add('colab-df-spinner');\n",
              "          try {\n",
              "            const charts = await google.colab.kernel.invokeFunction(\n",
              "                'suggestCharts', [key], {});\n",
              "          } catch (error) {\n",
              "            console.error('Error during call to suggestCharts:', error);\n",
              "          }\n",
              "          quickchartButtonEl.classList.remove('colab-df-spinner');\n",
              "          quickchartButtonEl.classList.add('colab-df-quickchart-complete');\n",
              "        }\n",
              "        (() => {\n",
              "          let quickchartButtonEl =\n",
              "            document.querySelector('#df-ee4f23c2-d936-4eed-adb1-32cf242f7e12 button');\n",
              "          quickchartButtonEl.style.display =\n",
              "            google.colab.kernel.accessAllowed ? 'block' : 'none';\n",
              "        })();\n",
              "      </script>\n",
              "    </div>\n",
              "\n",
              "  <div id=\"id_9450c260-68c6-444d-bb62-94bd20ae81ae\">\n",
              "    <style>\n",
              "      .colab-df-generate {\n",
              "        background-color: #E8F0FE;\n",
              "        border: none;\n",
              "        border-radius: 50%;\n",
              "        cursor: pointer;\n",
              "        display: none;\n",
              "        fill: #1967D2;\n",
              "        height: 32px;\n",
              "        padding: 0 0 0 0;\n",
              "        width: 32px;\n",
              "      }\n",
              "\n",
              "      .colab-df-generate:hover {\n",
              "        background-color: #E2EBFA;\n",
              "        box-shadow: 0px 1px 2px rgba(60, 64, 67, 0.3), 0px 1px 3px 1px rgba(60, 64, 67, 0.15);\n",
              "        fill: #174EA6;\n",
              "      }\n",
              "\n",
              "      [theme=dark] .colab-df-generate {\n",
              "        background-color: #3B4455;\n",
              "        fill: #D2E3FC;\n",
              "      }\n",
              "\n",
              "      [theme=dark] .colab-df-generate:hover {\n",
              "        background-color: #434B5C;\n",
              "        box-shadow: 0px 1px 3px 1px rgba(0, 0, 0, 0.15);\n",
              "        filter: drop-shadow(0px 1px 2px rgba(0, 0, 0, 0.3));\n",
              "        fill: #FFFFFF;\n",
              "      }\n",
              "    </style>\n",
              "    <button class=\"colab-df-generate\" onclick=\"generateWithVariable('anova_table')\"\n",
              "            title=\"Generate code using this dataframe.\"\n",
              "            style=\"display:none;\">\n",
              "\n",
              "  <svg xmlns=\"http://www.w3.org/2000/svg\" height=\"24px\"viewBox=\"0 0 24 24\"\n",
              "       width=\"24px\">\n",
              "    <path d=\"M7,19H8.4L18.45,9,17,7.55,7,17.6ZM5,21V16.75L18.45,3.32a2,2,0,0,1,2.83,0l1.4,1.43a1.91,1.91,0,0,1,.58,1.4,1.91,1.91,0,0,1-.58,1.4L9.25,21ZM18.45,9,17,7.55Zm-12,3A5.31,5.31,0,0,0,4.9,8.1,5.31,5.31,0,0,0,1,6.5,5.31,5.31,0,0,0,4.9,4.9,5.31,5.31,0,0,0,6.5,1,5.31,5.31,0,0,0,8.1,4.9,5.31,5.31,0,0,0,12,6.5,5.46,5.46,0,0,0,6.5,12Z\"/>\n",
              "  </svg>\n",
              "    </button>\n",
              "    <script>\n",
              "      (() => {\n",
              "      const buttonEl =\n",
              "        document.querySelector('#id_9450c260-68c6-444d-bb62-94bd20ae81ae button.colab-df-generate');\n",
              "      buttonEl.style.display =\n",
              "        google.colab.kernel.accessAllowed ? 'block' : 'none';\n",
              "\n",
              "      buttonEl.onclick = () => {\n",
              "        google.colab.notebook.generateWithVariable('anova_table');\n",
              "      }\n",
              "      })();\n",
              "    </script>\n",
              "  </div>\n",
              "\n",
              "    </div>\n",
              "  </div>\n"
            ],
            "application/vnd.google.colaboratory.intrinsic+json": {
              "type": "dataframe",
              "variable_name": "anova_table",
              "summary": "{\n  \"name\": \"anova_table\",\n  \"rows\": 5,\n  \"fields\": [\n    {\n      \"column\": \"df\",\n      \"properties\": {\n        \"dtype\": \"number\",\n        \"std\": 1.7888543819998317,\n        \"min\": 4.0,\n        \"max\": 8.0,\n        \"num_unique_values\": 2,\n        \"samples\": [\n          8.0,\n          4.0\n        ],\n        \"semantic_type\": \"\",\n        \"description\": \"\"\n      }\n    },\n    {\n      \"column\": \"sum_sq\",\n      \"properties\": {\n        \"dtype\": \"number\",\n        \"std\": 114.92258263718207,\n        \"min\": 62.0000000000001,\n        \"max\": 329.99999999999955,\n        \"num_unique_values\": 5,\n        \"samples\": [\n          150.0,\n          65.99999999999997\n        ],\n        \"semantic_type\": \"\",\n        \"description\": \"\"\n      }\n    },\n    {\n      \"column\": \"mean_sq\",\n      \"properties\": {\n        \"dtype\": \"number\",\n        \"std\": 30.17324974211423,\n        \"min\": 8.249999999999996,\n        \"max\": 82.49999999999989,\n        \"num_unique_values\": 5,\n        \"samples\": [\n          37.5,\n          8.249999999999996\n        ],\n        \"semantic_type\": \"\",\n        \"description\": \"\"\n      }\n    },\n    {\n      \"column\": \"F\",\n      \"properties\": {\n        \"dtype\": \"number\",\n        \"std\": 3.7865856378505685,\n        \"min\": 1.8787878787878827,\n        \"max\": 9.999999999999991,\n        \"num_unique_values\": 4,\n        \"samples\": [\n          4.545454545454548,\n          1.8787878787878827\n        ],\n        \"semantic_type\": \"\",\n        \"description\": \"\"\n      }\n    },\n    {\n      \"column\": \"PR(>F)\",\n      \"properties\": {\n        \"dtype\": \"number\",\n        \"std\": 0.10236621192734566,\n        \"min\": 0.003343621399176965,\n        \"max\": 0.20764129981398516,\n        \"num_unique_values\": 4,\n        \"samples\": [\n          0.03293041054886616,\n          0.20764129981398516\n        ],\n        \"semantic_type\": \"\",\n        \"description\": \"\"\n      }\n    }\n  ]\n}"
            }
          },
          "metadata": {}
        }
      ]
    },
    {
      "cell_type": "markdown",
      "source": [
        "[⬆️ Volver al inicio](#inicio)\n"
      ],
      "metadata": {
        "id": "hy64W-d-oBpd"
      }
    },
    {
      "cell_type": "markdown",
      "metadata": {
        "id": "40497ca9"
      },
      "source": [
        "## Interpretación de los Resultados del ANOVA\n",
        "\n",
        "La tabla ANOVA muestra la variación en la rapidez de combustión atribuida a cada uno de los factores (Operador, Lote, Formulación y Montaje) y la variación residual. Para interpretar los resultados, nos enfocamos en la columna `PR(>F)`, que representa el valor p (p-value). Un valor p menor que un nivel de significancia predeterminado (comúnmente 0.05) indica que el factor tiene un efecto estadísticamente significativo en la variable de respuesta (Rapidez de Combustión).\n",
        "\n",
        "Basado en la tabla ANOVA:\n",
        "\n",
        "*   **C(Operador):** El valor p es 0.178311. Como este valor es mayor que 0.05, concluimos que no hay evidencia estadísticamente significativa para afirmar que existen diferencias en la rapidez de combustión entre los diferentes operadores.\n",
        "*   **C(Lote):** El valor p es 0.032930. Como este valor es menor que 0.05, concluimos que hay evidencia estadísticamente significativa para afirmar que existen diferencias en la rapidez de combustión entre los diferentes lotes de materia prima.\n",
        "*   **C(Formulacion):** El valor p es 0.003344. Como este valor es mucho menor que 0.05, concluimos que hay evidencia altamente estadísticamente significativa para afirmar que existen diferencias en la rapidez de combustión entre las diferentes formulaciones de carga propulsora.\n",
        "*   **C(Montaje):** El valor p es 0.207641. Como este valor es mayor que 0.05, concluimos que no hay evidencia estadísticamente significativa para afirmar que existen diferencias en la rapidez de combustión entre los diferentes montajes de prueba.\n",
        "*   **Residual:** Esta fila representa la variación no explicada por los factores incluidos en el modelo.\n",
        "\n",
        "**Conclusión:**\n",
        "\n",
        "De acuerdo con el análisis ANOVA, la **Formulación de la carga propulsora** y el **Lote de materia prima** tienen un efecto estadísticamente significativo en la rapidez de combustión. El Operador y el Montaje de prueba no parecen tener un efecto significativo en este experimento.\n",
        "\n",
        "Podríamos proceder a realizar pruebas post-hoc (como la prueba HSD de Tukey) para determinar qué formulaciones específicas o lotes difieren significativamente entre sí, si fuera necesario."
      ]
    },
    {
      "cell_type": "markdown",
      "metadata": {
        "id": "a08fc1e7"
      },
      "source": [
        "Aquí está la tabla ANOVA de los resultados:\n",
        "\n",
        "|                 |    df |   sum_sq |   mean_sq |         F |    PR(>F) |\n",
        "|:----------------|------:|---------:|----------:|----------:|----------:|\n",
        "| C(Operador)     |     4 |     68   |     17    |  2.060606 |  0.178311 |\n",
        "| C(Lote)         |     4 |    150   |     37.5  |  4.545455 |  0.032930 |\n",
        "| C(Formulacion)  |     4 |    330   |     82.5  | 10.000000 |  0.003344 |\n",
        "| C(Montaje)      |     4 |     62   |     15.5  |  1.878788 |  0.207641 |\n",
        "| Residual        |     8 |     66   |      8.25 |       NaN |       NaN |"
      ]
    },
    {
      "cell_type": "code",
      "source": [],
      "metadata": {
        "id": "RYkodlrLBY_d"
      },
      "execution_count": null,
      "outputs": []
    },
    {
      "cell_type": "markdown",
      "source": [
        "[⬆️ Volver al inicio](#inicio)"
      ],
      "metadata": {
        "id": "WZ62BTJGwpRR"
      }
    },
    {
      "cell_type": "markdown",
      "source": [
        "<a name=\"T4\"></a>\n",
        "## **4. Turkey HSD**"
      ],
      "metadata": {
        "id": "_fJoHK2Ewik_"
      }
    },
    {
      "cell_type": "markdown",
      "metadata": {
        "id": "f195a27a"
      },
      "source": [
        "## **¿Qué es la Prueba HSD de Tukey y por qué es Importante?**\n",
        "\n",
        "La prueba de Diferencia Significativa Honesta (HSD) de Tukey es una prueba post-hoc que se utiliza después de realizar un Análisis de Varianza (ANOVA) y encontrar que existe una diferencia estadísticamente significativa entre las medias de tres o más grupos.\n",
        "\n",
        "**¿Por qué es importante?**\n",
        "\n",
        "El ANOVA nos dice si al menos una de las medias de los grupos es diferente de las otras, pero no nos dice **cuáles** grupos son diferentes entre sí. La prueba HSD de Tukey compara todas las posibles parejas de medias de grupo para determinar cuáles diferencias son estadísticamente significativas, controlando la tasa de error tipo I (la probabilidad de rechazar una hipótesis nula verdadera) para el conjunto de comparaciones.\n",
        "\n",
        "En resumen, si el ANOVA indica que hay diferencias significativas, la prueba HSD de Tukey es crucial para identificar las diferencias específicas entre los grupos y obtener conclusiones más detalladas sobre los efectos de los factores estudiados."
      ]
    },
    {
      "cell_type": "markdown",
      "metadata": {
        "id": "5241c325"
      },
      "source": [
        "### 4.1. Turkey HSD para la variable Operador"
      ]
    },
    {
      "cell_type": "code",
      "metadata": {
        "colab": {
          "base_uri": "https://localhost:8080/",
          "height": 805
        },
        "id": "059214f8",
        "outputId": "10d88682-c459-4902-a105-56fa37b64e85"
      },
      "source": [
        "from statsmodels.stats.multicomp import pairwise_tukeyhsd\n",
        "import matplotlib.pyplot as plt\n",
        "\n",
        "# Perform Tukey HSD test for 'Operador'\n",
        "tukey_operador = pairwise_tukeyhsd(endog=df['Rapidez_Combustion'], groups=df['Operador'], alpha=0.05)\n",
        "\n",
        "# Display the results\n",
        "print(tukey_operador)\n",
        "\n",
        "# Plot the results\n",
        "tukey_operador.plot_simultaneous()\n",
        "plt.show()"
      ],
      "execution_count": 26,
      "outputs": [
        {
          "output_type": "stream",
          "name": "stdout",
          "text": [
            " Multiple Comparison of Means - Tukey HSD, FWER=0.05 \n",
            "=====================================================\n",
            "group1 group2 meandiff p-adj   lower    upper  reject\n",
            "-----------------------------------------------------\n",
            "     1      2      4.6  0.683  -5.8348 15.0348  False\n",
            "     1      3      3.8 0.8097  -6.6348 14.2348  False\n",
            "     1      4      3.4 0.8632  -7.0348 13.8348  False\n",
            "     1      5      4.2 0.7489  -6.2348 14.6348  False\n",
            "     2      3     -0.8 0.9993 -11.2348  9.6348  False\n",
            "     2      4     -1.2 0.9967 -11.6348  9.2348  False\n",
            "     2      5     -0.4    1.0 -10.8348 10.0348  False\n",
            "     3      4     -0.4    1.0 -10.8348 10.0348  False\n",
            "     3      5      0.4    1.0 -10.0348 10.8348  False\n",
            "     4      5      0.8 0.9993  -9.6348 11.2348  False\n",
            "-----------------------------------------------------\n"
          ]
        },
        {
          "output_type": "display_data",
          "data": {
            "text/plain": [
              "<Figure size 1000x600 with 1 Axes>"
            ],
            "image/png": "[encoded data removed]"
          },
          "metadata": {}
        }
      ]
    },
    {
      "cell_type": "markdown",
      "metadata": {
        "id": "57d04cf2"
      },
      "source": [
        "### 4.2. Turkey HSD para la variable Lote"
      ]
    },
    {
      "cell_type": "code",
      "metadata": {
        "colab": {
          "base_uri": "https://localhost:8080/",
          "height": 805
        },
        "id": "179ce0cd",
        "outputId": "2c123782-3979-4e61-8b70-488cbda5a93f"
      },
      "source": [
        "from statsmodels.stats.multicomp import pairwise_tukeyhsd\n",
        "import matplotlib.pyplot as plt\n",
        "\n",
        "# Perform Tukey HSD test for 'Lote'\n",
        "tukey_lote = pairwise_tukeyhsd(endog=df['Rapidez_Combustion'], groups=df['Lote'], alpha=0.05)\n",
        "\n",
        "# Display the results\n",
        "print(tukey_lote)\n",
        "\n",
        "# Plot the results\n",
        "tukey_lote.plot_simultaneous()\n",
        "plt.show()"
      ],
      "execution_count": 27,
      "outputs": [
        {
          "output_type": "stream",
          "name": "stdout",
          "text": [
            " Multiple Comparison of Means - Tukey HSD, FWER=0.05 \n",
            "=====================================================\n",
            "group1 group2 meandiff p-adj   lower    upper  reject\n",
            "-----------------------------------------------------\n",
            "     1      2      7.2 0.2129  -2.5056 16.9056  False\n",
            "     1      3      2.8 0.9069  -6.9056 12.5056  False\n",
            "     1      4      4.6 0.6236  -5.1056 14.3056  False\n",
            "     1      5      5.4 0.4762  -4.3056 15.1056  False\n",
            "     2      3     -4.4 0.6607 -14.1056  5.3056  False\n",
            "     2      4     -2.6 0.9271 -12.3056  7.1056  False\n",
            "     2      5     -1.8   0.98 -11.5056  7.9056  False\n",
            "     3      4      1.8   0.98  -7.9056 11.5056  False\n",
            "     3      5      2.6 0.9271  -7.1056 12.3056  False\n",
            "     4      5      0.8 0.9991  -8.9056 10.5056  False\n",
            "-----------------------------------------------------\n"
          ]
        },
        {
          "output_type": "display_data",
          "data": {
            "text/plain": [
              "<Figure size 1000x600 with 1 Axes>"
            ],
            "image/png": "[encoded data removed]"
          },
          "metadata": {}
        }
      ]
    },
    {
      "cell_type": "markdown",
      "metadata": {
        "id": "14b71311"
      },
      "source": [
        "### 4.3. Turkey HSD para la variable Formulacion"
      ]
    },
    {
      "cell_type": "code",
      "metadata": {
        "colab": {
          "base_uri": "https://localhost:8080/",
          "height": 805
        },
        "id": "46249160",
        "outputId": "a0bc39dc-ab26-46ee-de9b-dbfe7480e8af"
      },
      "source": [
        "from statsmodels.stats.multicomp import pairwise_tukeyhsd\n",
        "import matplotlib.pyplot as plt\n",
        "\n",
        "# Perform Tukey HSD test for 'Formulacion'\n",
        "tukey_formulacion = pairwise_tukeyhsd(endog=df['Rapidez_Combustion'], groups=df['Formulacion'], alpha=0.05)\n",
        "\n",
        "# Display the results\n",
        "print(tukey_formulacion)\n",
        "\n",
        "# Plot the results\n",
        "tukey_formulacion.plot_simultaneous()\n",
        "plt.show()"
      ],
      "execution_count": 28,
      "outputs": [
        {
          "output_type": "stream",
          "name": "stdout",
          "text": [
            " Multiple Comparison of Means - Tukey HSD, FWER=0.05 \n",
            "=====================================================\n",
            "group1 group2 meandiff p-adj   lower    upper  reject\n",
            "-----------------------------------------------------\n",
            "     A      B     -8.4 0.0329 -16.2717 -0.5283   True\n",
            "     A      C     -6.2 0.1685 -14.0717  1.6717  False\n",
            "     A      D      1.2 0.9904  -6.6717  9.0717  False\n",
            "     A      E     -2.6 0.8574 -10.4717  5.2717  False\n",
            "     B      C      2.2 0.9161  -5.6717 10.0717  False\n",
            "     B      D      9.6 0.0123   1.7283 17.4717   True\n",
            "     B      E      5.8 0.2182  -2.0717 13.6717  False\n",
            "     C      D      7.4 0.0717  -0.4717 15.2717  False\n",
            "     C      E      3.6 0.6536  -4.2717 11.4717  False\n",
            "     D      E     -3.8 0.6077 -11.6717  4.0717  False\n",
            "-----------------------------------------------------\n"
          ]
        },
        {
          "output_type": "display_data",
          "data": {
            "text/plain": [
              "<Figure size 1000x600 with 1 Axes>"
            ],
            "image/png": "[encoded data removed]"
          },
          "metadata": {}
        }
      ]
    },
    {
      "cell_type": "markdown",
      "metadata": {
        "id": "2f719906"
      },
      "source": [
        "## Interpretación de la Prueba HSD de Tukey para la variable Formulacion\n",
        "\n",
        "Para interpretar los resultados de la prueba HSD de Tukey, nos fijamos en la columna `reject`. Si el valor en esta columna es `True`, significa que la diferencia entre las medias de los dos grupos comparados es estadísticamente significativa al nivel de significancia especificado (alpha = 0.05). Si el valor es `False`, la diferencia no es estadísticamente significativa.\n",
        "\n",
        "Observando los resultados de la prueba HSD de Tukey para la variable `Formulacion`:"
      ]
    },
    {
      "cell_type": "markdown",
      "metadata": {
        "id": "08d9f56d"
      },
      "source": [
        "### 4.4. Turkey HSD para la variable Montaje"
      ]
    },
    {
      "cell_type": "code",
      "metadata": {
        "colab": {
          "base_uri": "https://localhost:8080/",
          "height": 805
        },
        "id": "a156c027",
        "outputId": "d9ccc614-dae9-46dc-d404-4c057ca08227"
      },
      "source": [
        "from statsmodels.stats.multicomp import pairwise_tukeyhsd\n",
        "import matplotlib.pyplot as plt\n",
        "\n",
        "# Perform Tukey HSD test for 'Montaje'\n",
        "tukey_montaje = pairwise_tukeyhsd(endog=df['Rapidez_Combustion'], groups=df['Montaje'], alpha=0.05)\n",
        "\n",
        "# Display the results\n",
        "print(tukey_montaje)\n",
        "\n",
        "# Plot the results\n",
        "tukey_montaje.plot_simultaneous()\n",
        "plt.show()"
      ],
      "execution_count": 29,
      "outputs": [
        {
          "output_type": "stream",
          "name": "stdout",
          "text": [
            " Multiple Comparison of Means - Tukey HSD, FWER=0.05 \n",
            "=====================================================\n",
            "group1 group2 meandiff p-adj   lower    upper  reject\n",
            "-----------------------------------------------------\n",
            "     α      β     -3.2 0.8885 -13.6861  7.2861  False\n",
            "     α      γ     -2.6 0.9439 -13.0861  7.8861  False\n",
            "     α      δ     -2.8 0.9278 -13.2861  7.6861  False\n",
            "     α      ε      0.6 0.9998  -9.8861 11.0861  False\n",
            "     β      γ      0.6 0.9998  -9.8861 11.0861  False\n",
            "     β      δ      0.4    1.0 -10.0861 10.8861  False\n",
            "     β      ε      3.8 0.8123  -6.6861 14.2861  False\n",
            "     γ      δ     -0.2    1.0 -10.6861 10.2861  False\n",
            "     γ      ε      3.2 0.8885  -7.2861 13.6861  False\n",
            "     δ      ε      3.4 0.8653  -7.0861 13.8861  False\n",
            "-----------------------------------------------------\n"
          ]
        },
        {
          "output_type": "display_data",
          "data": {
            "text/plain": [
              "<Figure size 1000x600 with 1 Axes>"
            ],
            "image/png": "[encoded data removed]"
          },
          "metadata": {}
        }
      ]
    },
    {
      "cell_type": "markdown",
      "source": [
        "[⬆️ Volver al inicio](#inicio)"
      ],
      "metadata": {
        "id": "mD5WF_r3EXer"
      }
    },
    {
      "cell_type": "markdown",
      "source": [
        "<a name=\"T5\"></a>\n",
        "## **5. Validacion en R**\n",
        "\n",
        "De acuerdo a los resultados anteriormente obtenidos en la prueba HSD Turkey, la mayoria de los pares de datos no presentan diferencias significativas, procedemos a validar con R"
      ],
      "metadata": {
        "id": "ubIgYEHwFNT3"
      }
    },
    {
      "cell_type": "code",
      "source": [
        "import pandas as pd\n",
        "import statsmodels.api as sm\n",
        "from statsmodels.formula.api import ols\n",
        "from statsmodels.stats.multicomp import pairwise_tukeyhsd\n",
        "\n",
        "# Asegurar variables categóricas\n",
        "df[\"Operador\"] = df[\"Operador\"].astype(\"category\")\n",
        "df[\"Lote\"] = df[\"Lote\"].astype(\"category\")\n",
        "df[\"Formulacion\"] = df[\"Formulacion\"].astype(\"category\")\n",
        "df[\"Montaje\"] = df[\"Montaje\"].astype(\"category\")\n",
        "\n",
        "# ANOVA con modelo lineal\n",
        "anova_model = ols(\"Rapidez_Combustion ~ Operador + Lote + Formulacion + Montaje\", data=df).fit()\n",
        "anova_table = sm.stats.anova_lm(anova_model, typ=2)\n",
        "print(anova_table)\n",
        "\n",
        "# Tukey HSD\n",
        "print(\"Tukey HSD for Lote:\")\n",
        "print(pairwise_tukeyhsd(df[\"Rapidez_Combustion\"], df[\"Lote\"]))\n",
        "\n",
        "print(\"Tukey HSD for Formulacion:\")\n",
        "print(pairwise_tukeyhsd(df[\"Rapidez_Combustion\"], df[\"Formulacion\"]))\n"
      ],
      "metadata": {
        "colab": {
          "base_uri": "https://localhost:8080/",
          "height": 0
        },
        "id": "hnK-IIOrFdYw",
        "outputId": "49ed2022-489d-4256-b026-c01254ae5ec7"
      },
      "execution_count": 31,
      "outputs": [
        {
          "output_type": "stream",
          "name": "stdout",
          "text": [
            "             sum_sq   df          F    PR(>F)\n",
            "Operador       68.0  4.0   2.060606  0.178311\n",
            "Lote          150.0  4.0   4.545455  0.032930\n",
            "Formulacion   330.0  4.0  10.000000  0.003344\n",
            "Montaje        62.0  4.0   1.878788  0.207641\n",
            "Residual       66.0  8.0        NaN       NaN\n",
            "Tukey HSD for Lote:\n",
            " Multiple Comparison of Means - Tukey HSD, FWER=0.05 \n",
            "=====================================================\n",
            "group1 group2 meandiff p-adj   lower    upper  reject\n",
            "-----------------------------------------------------\n",
            "     1      2      7.2 0.2129  -2.5056 16.9056  False\n",
            "     1      3      2.8 0.9069  -6.9056 12.5056  False\n",
            "     1      4      4.6 0.6236  -5.1056 14.3056  False\n",
            "     1      5      5.4 0.4762  -4.3056 15.1056  False\n",
            "     2      3     -4.4 0.6607 -14.1056  5.3056  False\n",
            "     2      4     -2.6 0.9271 -12.3056  7.1056  False\n",
            "     2      5     -1.8   0.98 -11.5056  7.9056  False\n",
            "     3      4      1.8   0.98  -7.9056 11.5056  False\n",
            "     3      5      2.6 0.9271  -7.1056 12.3056  False\n",
            "     4      5      0.8 0.9991  -8.9056 10.5056  False\n",
            "-----------------------------------------------------\n",
            "Tukey HSD for Formulacion:\n",
            " Multiple Comparison of Means - Tukey HSD, FWER=0.05 \n",
            "=====================================================\n",
            "group1 group2 meandiff p-adj   lower    upper  reject\n",
            "-----------------------------------------------------\n",
            "     A      B     -8.4 0.0329 -16.2717 -0.5283   True\n",
            "     A      C     -6.2 0.1685 -14.0717  1.6717  False\n",
            "     A      D      1.2 0.9904  -6.6717  9.0717  False\n",
            "     A      E     -2.6 0.8574 -10.4717  5.2717  False\n",
            "     B      C      2.2 0.9161  -5.6717 10.0717  False\n",
            "     B      D      9.6 0.0123   1.7283 17.4717   True\n",
            "     B      E      5.8 0.2182  -2.0717 13.6717  False\n",
            "     C      D      7.4 0.0717  -0.4717 15.2717  False\n",
            "     C      E      3.6 0.6536  -4.2717 11.4717  False\n",
            "     D      E     -3.8 0.6077 -11.6717  4.0717  False\n",
            "-----------------------------------------------------\n"
          ]
        }
      ]
    },
    {
      "cell_type": "markdown",
      "source": [
        "[⬆️ Volver al inicio](#inicio)"
      ],
      "metadata": {
        "id": "5H_v2yMyIEE8"
      }
    },
    {
      "cell_type": "markdown",
      "metadata": {
        "id": "abd33d32"
      },
      "source": [
        "<a name=\"T6\"></a>\n",
        "## **6. Prueba de Homocedasticidad (Levene's Test)**\n",
        "\n",
        "Para verificar el supuesto de homocedasticidad (igualdad de varianzas) para la variable de respuesta 'Rapidez_Combustion' a través de los niveles de cada factor, realizaremos la Prueba de Levene."
      ]
    },
    {
      "cell_type": "code",
      "metadata": {
        "colab": {
          "base_uri": "https://localhost:8080/",
          "height": 0
        },
        "id": "d799c419",
        "outputId": "2bd66275-297c-4afe-8c02-28ff9e3389d1"
      },
      "source": [
        "import scipy.stats as stats\n",
        "\n",
        "# Perform Levene's test for each factor\n",
        "\n",
        "# Levene's test for Operador\n",
        "levene_operador = stats.levene(df['Rapidez_Combustion'][df['Operador'] == 1],\n",
        "                               df['Rapidez_Combustion'][df['Operador'] == 2],\n",
        "                               df['Rapidez_Combustion'][df['Operador'] == 3],\n",
        "                               df['Rapidez_Combustion'][df['Operador'] == 4],\n",
        "                               df['Rapidez_Combustion'][df['Operador'] == 5])\n",
        "print(f\"Levene's Test for Operador: Statistic = {levene_operador.statistic:.4f}, p-value = {levene_operador.pvalue:.4f}\")\n",
        "\n",
        "# Levene's test for Lote\n",
        "levene_lote = stats.levene(df['Rapidez_Combustion'][df['Lote'] == 1],\n",
        "                           df['Rapidez_Combustion'][df['Lote'] == 2],\n",
        "                           df['Rapidez_Combustion'][df['Lote'] == 3],\n",
        "                           df['Rapidez_Combustion'][df['Lote'] == 4],\n",
        "                           df['Rapidez_Combustion'][df['Lote'] == 5])\n",
        "print(f\"Levene's Test for Lote: Statistic = {levene_lote.statistic:.4f}, p-value = {levene_lote.pvalue:.4f}\")\n",
        "\n",
        "# Levene's test for Formulacion\n",
        "levene_formulacion = stats.levene(df['Rapidez_Combustion'][df['Formulacion'] == 'A'],\n",
        "                                  df['Rapidez_Combustion'][df['Formulacion'] == 'B'],\n",
        "                                  df['Rapidez_Combustion'][df['Formulacion'] == 'C'],\n",
        "                                  df['Rapidez_Combustion'][df['Formulacion'] == 'D'],\n",
        "                                  df['Rapidez_Combustion'][df['Formulacion'] == 'E'])\n",
        "print(f\"Levene's Test for Formulacion: Statistic = {levene_formulacion.statistic:.4f}, p-value = {levene_formulacion.pvalue:.4f}\")\n",
        "\n",
        "# Levene's test for Montaje\n",
        "levene_montaje = stats.levene(df['Rapidez_Combustion'][df['Montaje'] == 'α'],\n",
        "                              df['Rapidez_Combustion'][df['Montaje'] == 'β'],\n",
        "                              df['Rapidez_Combustion'][df['Montaje'] == 'γ'],\n",
        "                              df['Rapidez_Combustion'][df['Montaje'] == 'δ'],\n",
        "                              df['Rapidez_Combustion'][df['Montaje'] == 'ε'])\n",
        "print(f\"Levene's Test for Montaje: Statistic = {levene_montaje.statistic:.4f}, p-value = {levene_montaje.pvalue:.4f}\")"
      ],
      "execution_count": 34,
      "outputs": [
        {
          "output_type": "stream",
          "name": "stdout",
          "text": [
            "Levene's Test for Operador: Statistic = 0.8196, p-value = 0.5278\n",
            "Levene's Test for Lote: Statistic = 0.7370, p-value = 0.5776\n",
            "Levene's Test for Formulacion: Statistic = 0.5858, p-value = 0.6766\n",
            "Levene's Test for Montaje: Statistic = 0.9394, p-value = 0.4615\n"
          ]
        }
      ]
    },
    {
      "cell_type": "markdown",
      "metadata": {
        "id": "541a3fcd"
      },
      "source": [
        "## Interpretación de la Prueba de Homocedasticidad\n",
        "\n",
        "En la Prueba de Levene, la hipótesis nula (H₀) es que las varianzas son iguales entre los grupos (homocedasticidad). La hipótesis alternativa (H₁) es que al menos una de las varianzas es diferente (heterocedasticidad).\n",
        "\n",
        "*   Si el valor p es mayor que el nivel de significancia (comúnmente 0.05), no rechazamos H₀ y asumimos homocedasticidad.\n",
        "*   Si el valor p es menor que el nivel de significancia (0.05), rechazamos H₀ y concluimos que hay heterocedasticidad.\n",
        "\n",
        "Analizaremos los valores p obtenidos para cada factor después de ejecutar el código."
      ]
    },
    {
      "cell_type": "markdown",
      "metadata": {
        "id": "62f9df9c"
      },
      "source": [
        "## Interpretación de los Resultados de la Prueba de Homocedasticidad\n",
        "\n",
        "Analizando los valores p obtenidos de la Prueba de Levene:\n",
        "\n",
        "*   **Operador:** El valor p es 0.5278. Como 0.5278 > 0.05, **asumimos homocedasticidad** para el factor Operador. No hay evidencia significativa para sugerir que las varianzas de la rapidez de combustión difieren entre los diferentes operadores.\n",
        "*   **Lote:** El valor p es 0.5776. Como 0.5776 > 0.05, **asumimos homocedasticidad** para el factor Lote. No hay evidencia significativa para sugerir que las varianzas de la rapidez de combustión difieren entre los diferentes lotes.\n",
        "*   **Formulacion:** El valor p es 0.6766. Como 0.6766 > 0.05, **asumimos homocedasticidad** para el factor Formulación. No hay evidencia significativa para sugerir que las varianzas de la rapidez de combustión difieren entre las diferentes formulaciones.\n",
        "*   **Montaje:** El valor p es 0.4615. Como 0.4615 > 0.05, **asumimos homocedasticidad** para el factor Montaje. No hay evidencia significativa para sugerir que las varianzas de la rapidez de combustión difieren entre los diferentes montajes.\n",
        "\n",
        "**Conclusión de la Homocedasticidad:**\n",
        "\n",
        "Para todos los factores (Operador, Lote, Formulación y Montaje), el valor p de la Prueba de Levene es mayor que 0.05. Esto significa que **no rechazamos la hipótesis nula de igualdad de varianzas** para ninguno de estos factores. Por lo tanto, podemos asumir que se cumple el supuesto de homocedasticidad para la variable de respuesta 'Rapidez_Combustion' a través de los niveles de cada uno de los factores en este experimento. Esto valida el uso del ANOVA y las pruebas post-hoc como Tukey HSD, ya que asumen la igualdad de varianzas."
      ]
    },
    {
      "cell_type": "markdown",
      "source": [
        "[⬆️ Volver al inicio](#inicio)\n"
      ],
      "metadata": {
        "id": "kV-JtZScIGVw"
      }
    },
    {
      "cell_type": "code",
      "source": [],
      "metadata": {
        "id": "KgAHflHcJQTs"
      },
      "execution_count": null,
      "outputs": []
    },
    {
      "cell_type": "markdown",
      "metadata": {
        "id": "a2e41e9c"
      },
      "source": [
        "## Fin del Análisis\n",
        "\n",
        "Este documento presenta el análisis del diseño en Cuadrado Grecolatino para investigar el efecto de diferentes formulaciones de carga propulsora en la rapidez de combustión, considerando los factores de bloqueo de Lote, Operador y Montaje.\n",
        "\n",
        "Se realizó un Análisis de Varianza (ANOVA) para determinar la significancia estadística de cada factor y pruebas post-hoc (Tukey HSD) para identificar diferencias entre los niveles de los factores significativos. Además, se verificó el supuesto de homocedasticidad mediante la Prueba de Levene.\n",
        "\n",
        "Para imprimir, revisa que todos los resultados y las interpretaciones estén completos y que la estructura con los títulos y subtítulos sea clara."
      ]
    }
  ]
}